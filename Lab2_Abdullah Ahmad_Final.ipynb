{
 "cells": [
  {
   "cell_type": "markdown",
   "id": "a8a74763",
   "metadata": {},
   "source": [
    " \n",
    "## 95-791 Data Mining (Fall 2021) \n",
    "### Name: Abdullah Ahmad\n",
    "\n",
    "### Topics covered in this Lab:\n",
    "Linear and Polynomial Regression with scikit-learn\n",
    "Ridge and Lasso Regression\n",
    "Cross Validation\n"
   ]
  },
  {
   "cell_type": "markdown",
   "id": "d73e8523",
   "metadata": {},
   "source": [
    "### Changing the author field and file name.\n",
    "\n",
    " (a) Change the `name:` field on the Rmd document from Your Name Here to your own name.\n",
    "\n",
    " (b) Rename this file to \"Lab2_F21_YourHameHere.ipynb\", where YourNameHere is changed to your own name.\n",
    "\n",
    "\n",
    "### Installing and loading packages\n",
    "\n",
    "Before you begin this Lab make sure you have installed all the required libraries. Load the libraries as indicated below."
   ]
  },
  {
   "cell_type": "markdown",
   "id": "38e6528f",
   "metadata": {},
   "source": [
    "You only need to install libraries once.  Once they're installed, you may use them by **importing** the libraries using the `import` command.  For today's lab, you'll want to run the following code\n"
   ]
  },
  {
   "cell_type": "code",
   "execution_count": 2,
   "id": "ea59a632",
   "metadata": {},
   "outputs": [],
   "source": [
    "import numpy as np\n",
    "import pandas as pd\n",
    "import seaborn as sns\n",
    "from matplotlib import pyplot as plt\n",
    "import plotly.express as px\n",
    "import statsmodels.api as sm\n",
    "import statsmodels.formula.api as smf\n",
    "from sklearn.metrics import mean_squared_error\n",
    "from sklearn.linear_model import LinearRegression\n",
    "from sklearn.preprocessing import PolynomialFeatures\n",
    "from sklearn.model_selection import train_test_split, LeaveOneOut, KFold, cross_val_score\n",
    "from sklearn.datasets import load_diabetes\n",
    "%matplotlib inline\n",
    "plt.style.use('seaborn-white')"
   ]
  },
  {
   "cell_type": "markdown",
   "id": "11b07e19",
   "metadata": {},
   "source": [
    "### 1. Data Processing\n",
    "\n",
    "> For Lab you might want to have your lecture slides and the ISRL textbook (An Introduction to Statistical Learning) open (Chapters 3, 4, and 6) as you go through the exercises. \n",
    "\n",
    "\n",
    "In today's Lab we are going to switch from using statsmodels to [scikitlearn](https://scikit-learn.org/stable/). Scikit-learn works with vectors rather than formulas to compute our models. Follow along the next exercises to learn more.\n"
   ]
  },
  {
   "cell_type": "markdown",
   "id": "7489056b",
   "metadata": {},
   "source": [
    "**1)a) Begin by loading a dataset from scikit-learn called [`Diabetes`](https://scikit-learn.org/stable/modules/generated/sklearn.datasets.load_diabetes.html#sklearn.datasets.load_diabetes) into a dataframe called `diabetes_data`. Print the DESCR of the dataset.**\n"
   ]
  },
  {
   "cell_type": "code",
   "execution_count": 3,
   "id": "df752146",
   "metadata": {},
   "outputs": [
    {
     "name": "stdout",
     "output_type": "stream",
     "text": [
      ".. _diabetes_dataset:\n",
      "\n",
      "Diabetes dataset\n",
      "----------------\n",
      "\n",
      "Ten baseline variables, age, sex, body mass index, average blood\n",
      "pressure, and six blood serum measurements were obtained for each of n =\n",
      "442 diabetes patients, as well as the response of interest, a\n",
      "quantitative measure of disease progression one year after baseline.\n",
      "\n",
      "**Data Set Characteristics:**\n",
      "\n",
      "  :Number of Instances: 442\n",
      "\n",
      "  :Number of Attributes: First 10 columns are numeric predictive values\n",
      "\n",
      "  :Target: Column 11 is a quantitative measure of disease progression one year after baseline\n",
      "\n",
      "  :Attribute Information:\n",
      "      - age     age in years\n",
      "      - sex\n",
      "      - bmi     body mass index\n",
      "      - bp      average blood pressure\n",
      "      - s1      tc, T-Cells (a type of white blood cells)\n",
      "      - s2      ldl, low-density lipoproteins\n",
      "      - s3      hdl, high-density lipoproteins\n",
      "      - s4      tch, thyroid stimulating hormone\n",
      "      - s5      ltg, lamotrigine\n",
      "      - s6      glu, blood sugar level\n",
      "\n",
      "Note: Each of these 10 feature variables have been mean centered and scaled by the standard deviation times `n_samples` (i.e. the sum of squares of each column totals 1).\n",
      "\n",
      "Source URL:\n",
      "https://www4.stat.ncsu.edu/~boos/var.select/diabetes.html\n",
      "\n",
      "For more information see:\n",
      "Bradley Efron, Trevor Hastie, Iain Johnstone and Robert Tibshirani (2004) \"Least Angle Regression,\" Annals of Statistics (with discussion), 407-499.\n",
      "(https://web.stanford.edu/~hastie/Papers/LARS/LeastAngle_2002.pdf)\n"
     ]
    }
   ],
   "source": [
    "diabetes_data = load_diabetes()\n",
    "print(diabetes_data.DESCR)"
   ]
  },
  {
   "cell_type": "markdown",
   "id": "b8860276",
   "metadata": {},
   "source": [
    "**1)b) How many feautres does this dataset have? What does the target variable represent in this dataset?**"
   ]
  },
  {
   "cell_type": "markdown",
   "id": "78973e3d",
   "metadata": {},
   "source": [
    "--> 10 features"
   ]
  },
  {
   "cell_type": "markdown",
   "id": "02cefcca",
   "metadata": {},
   "source": [
    "**1)c) Pick any of the predictors and graph it against the target variable. Use regplot() for this and describe the relationship between those two variables.**"
   ]
  },
  {
   "cell_type": "code",
   "execution_count": 4,
   "id": "36027084",
   "metadata": {},
   "outputs": [
    {
     "data": {
      "text/html": [
       "<div>\n",
       "<style scoped>\n",
       "    .dataframe tbody tr th:only-of-type {\n",
       "        vertical-align: middle;\n",
       "    }\n",
       "\n",
       "    .dataframe tbody tr th {\n",
       "        vertical-align: top;\n",
       "    }\n",
       "\n",
       "    .dataframe thead th {\n",
       "        text-align: right;\n",
       "    }\n",
       "</style>\n",
       "<table border=\"1\" class=\"dataframe\">\n",
       "  <thead>\n",
       "    <tr style=\"text-align: right;\">\n",
       "      <th></th>\n",
       "      <th>age</th>\n",
       "      <th>sex</th>\n",
       "      <th>bmi</th>\n",
       "      <th>bp</th>\n",
       "      <th>s1</th>\n",
       "      <th>s2</th>\n",
       "      <th>s3</th>\n",
       "      <th>s4</th>\n",
       "      <th>s5</th>\n",
       "      <th>s6</th>\n",
       "      <th>d_progression</th>\n",
       "    </tr>\n",
       "  </thead>\n",
       "  <tbody>\n",
       "    <tr>\n",
       "      <th>0</th>\n",
       "      <td>0.038076</td>\n",
       "      <td>0.050680</td>\n",
       "      <td>0.061696</td>\n",
       "      <td>0.021872</td>\n",
       "      <td>-0.044223</td>\n",
       "      <td>-0.034821</td>\n",
       "      <td>-0.043401</td>\n",
       "      <td>-0.002592</td>\n",
       "      <td>0.019908</td>\n",
       "      <td>-0.017646</td>\n",
       "      <td>151.0</td>\n",
       "    </tr>\n",
       "    <tr>\n",
       "      <th>1</th>\n",
       "      <td>-0.001882</td>\n",
       "      <td>-0.044642</td>\n",
       "      <td>-0.051474</td>\n",
       "      <td>-0.026328</td>\n",
       "      <td>-0.008449</td>\n",
       "      <td>-0.019163</td>\n",
       "      <td>0.074412</td>\n",
       "      <td>-0.039493</td>\n",
       "      <td>-0.068330</td>\n",
       "      <td>-0.092204</td>\n",
       "      <td>75.0</td>\n",
       "    </tr>\n",
       "    <tr>\n",
       "      <th>2</th>\n",
       "      <td>0.085299</td>\n",
       "      <td>0.050680</td>\n",
       "      <td>0.044451</td>\n",
       "      <td>-0.005671</td>\n",
       "      <td>-0.045599</td>\n",
       "      <td>-0.034194</td>\n",
       "      <td>-0.032356</td>\n",
       "      <td>-0.002592</td>\n",
       "      <td>0.002864</td>\n",
       "      <td>-0.025930</td>\n",
       "      <td>141.0</td>\n",
       "    </tr>\n",
       "    <tr>\n",
       "      <th>3</th>\n",
       "      <td>-0.089063</td>\n",
       "      <td>-0.044642</td>\n",
       "      <td>-0.011595</td>\n",
       "      <td>-0.036656</td>\n",
       "      <td>0.012191</td>\n",
       "      <td>0.024991</td>\n",
       "      <td>-0.036038</td>\n",
       "      <td>0.034309</td>\n",
       "      <td>0.022692</td>\n",
       "      <td>-0.009362</td>\n",
       "      <td>206.0</td>\n",
       "    </tr>\n",
       "    <tr>\n",
       "      <th>4</th>\n",
       "      <td>0.005383</td>\n",
       "      <td>-0.044642</td>\n",
       "      <td>-0.036385</td>\n",
       "      <td>0.021872</td>\n",
       "      <td>0.003935</td>\n",
       "      <td>0.015596</td>\n",
       "      <td>0.008142</td>\n",
       "      <td>-0.002592</td>\n",
       "      <td>-0.031991</td>\n",
       "      <td>-0.046641</td>\n",
       "      <td>135.0</td>\n",
       "    </tr>\n",
       "  </tbody>\n",
       "</table>\n",
       "</div>"
      ],
      "text/plain": [
       "        age       sex       bmi        bp        s1        s2        s3  \\\n",
       "0  0.038076  0.050680  0.061696  0.021872 -0.044223 -0.034821 -0.043401   \n",
       "1 -0.001882 -0.044642 -0.051474 -0.026328 -0.008449 -0.019163  0.074412   \n",
       "2  0.085299  0.050680  0.044451 -0.005671 -0.045599 -0.034194 -0.032356   \n",
       "3 -0.089063 -0.044642 -0.011595 -0.036656  0.012191  0.024991 -0.036038   \n",
       "4  0.005383 -0.044642 -0.036385  0.021872  0.003935  0.015596  0.008142   \n",
       "\n",
       "         s4        s5        s6  d_progression  \n",
       "0 -0.002592  0.019908 -0.017646          151.0  \n",
       "1 -0.039493 -0.068330 -0.092204           75.0  \n",
       "2 -0.002592  0.002864 -0.025930          141.0  \n",
       "3  0.034309  0.022692 -0.009362          206.0  \n",
       "4 -0.002592 -0.031991 -0.046641          135.0  "
      ]
     },
     "execution_count": 4,
     "metadata": {},
     "output_type": "execute_result"
    }
   ],
   "source": [
    "df = pd.DataFrame(diabetes_data.data)\n",
    "df.columns = diabetes_data.feature_names\n",
    "df['d_progression'] = pd.DataFrame(diabetes_data.target)\n",
    "df.head()"
   ]
  },
  {
   "cell_type": "code",
   "execution_count": 5,
   "id": "f680f6e7",
   "metadata": {},
   "outputs": [
    {
     "data": {
      "image/png": "[encoded data removed]",
      "text/plain": [
       "<Figure size 864x432 with 1 Axes>"
      ]
     },
     "metadata": {},
     "output_type": "display_data"
    }
   ],
   "source": [
    "sns.axes_style(\"whitegrid\") \n",
    "plt.figure(figsize=(12,6))\n",
    "lmplot = sns.regplot(x=\"bmi\",y=\"d_progression\",data=df, ci=None, order=1, \n",
    "            scatter_kws={\"color\": \"darkgrey\"}, line_kws={\"color\": \"darkblue\"})\n",
    "lmplot.set(xlabel='BMI - body mass index', \n",
    "           ylabel='Disease progression one year after baseline')\n",
    "plt.show(lmplot)"
   ]
  },
  {
   "cell_type": "markdown",
   "id": "5466b8ec",
   "metadata": {},
   "source": [
    "--> BP is positively coorelated to target."
   ]
  },
  {
   "cell_type": "markdown",
   "id": "73875423",
   "metadata": {},
   "source": [
    "**1)d) Either split your dataframe into `X` and `y` or re-load the [`Diabetes`](https://scikit-learn.org/stable/modules/generated/sklearn.datasets.load_diabetes.html#sklearn.datasets.load_diabetes) dataset into X and y variables. Print your taget variable.**\n"
   ]
  },
  {
   "cell_type": "code",
   "execution_count": 6,
   "id": "176c4e24",
   "metadata": {},
   "outputs": [
    {
     "name": "stdout",
     "output_type": "stream",
     "text": [
      "[[ 0.03807591  0.05068012  0.06169621 ... -0.00259226  0.01990842\n",
      "  -0.01764613]\n",
      " [-0.00188202 -0.04464164 -0.05147406 ... -0.03949338 -0.06832974\n",
      "  -0.09220405]\n",
      " [ 0.08529891  0.05068012  0.04445121 ... -0.00259226  0.00286377\n",
      "  -0.02593034]\n",
      " ...\n",
      " [ 0.04170844  0.05068012 -0.01590626 ... -0.01107952 -0.04687948\n",
      "   0.01549073]\n",
      " [-0.04547248 -0.04464164  0.03906215 ...  0.02655962  0.04452837\n",
      "  -0.02593034]\n",
      " [-0.04547248 -0.04464164 -0.0730303  ... -0.03949338 -0.00421986\n",
      "   0.00306441]]\n",
      "[151.  75. 141. 206. 135.  97. 138.  63. 110. 310. 101.  69. 179. 185.\n",
      " 118. 171. 166. 144.  97. 168.  68.  49.  68. 245. 184. 202. 137.  85.\n",
      " 131. 283. 129.  59. 341.  87.  65. 102. 265. 276. 252.  90. 100.  55.\n",
      "  61.  92. 259.  53. 190. 142.  75. 142. 155. 225.  59. 104. 182. 128.\n",
      "  52.  37. 170. 170.  61. 144.  52. 128.  71. 163. 150.  97. 160. 178.\n",
      "  48. 270. 202. 111.  85.  42. 170. 200. 252. 113. 143.  51.  52. 210.\n",
      "  65. 141.  55. 134.  42. 111.  98. 164.  48.  96.  90. 162. 150. 279.\n",
      "  92.  83. 128. 102. 302. 198.  95.  53. 134. 144. 232.  81. 104.  59.\n",
      " 246. 297. 258. 229. 275. 281. 179. 200. 200. 173. 180.  84. 121. 161.\n",
      "  99. 109. 115. 268. 274. 158. 107.  83. 103. 272.  85. 280. 336. 281.\n",
      " 118. 317. 235.  60. 174. 259. 178. 128.  96. 126. 288.  88. 292.  71.\n",
      " 197. 186.  25.  84.  96. 195.  53. 217. 172. 131. 214.  59.  70. 220.\n",
      " 268. 152.  47.  74. 295. 101. 151. 127. 237. 225.  81. 151. 107.  64.\n",
      " 138. 185. 265. 101. 137. 143. 141.  79. 292. 178.  91. 116.  86. 122.\n",
      "  72. 129. 142.  90. 158.  39. 196. 222. 277.  99. 196. 202. 155.  77.\n",
      " 191.  70.  73.  49.  65. 263. 248. 296. 214. 185.  78.  93. 252. 150.\n",
      "  77. 208.  77. 108. 160.  53. 220. 154. 259.  90. 246. 124.  67.  72.\n",
      " 257. 262. 275. 177.  71.  47. 187. 125.  78.  51. 258. 215. 303. 243.\n",
      "  91. 150. 310. 153. 346.  63.  89.  50.  39. 103. 308. 116. 145.  74.\n",
      "  45. 115. 264.  87. 202. 127. 182. 241.  66.  94. 283.  64. 102. 200.\n",
      " 265.  94. 230. 181. 156. 233.  60. 219.  80.  68. 332. 248.  84. 200.\n",
      "  55.  85.  89.  31. 129.  83. 275.  65. 198. 236. 253. 124.  44. 172.\n",
      " 114. 142. 109. 180. 144. 163. 147.  97. 220. 190. 109. 191. 122. 230.\n",
      " 242. 248. 249. 192. 131. 237.  78. 135. 244. 199. 270. 164.  72.  96.\n",
      " 306.  91. 214.  95. 216. 263. 178. 113. 200. 139. 139.  88. 148.  88.\n",
      " 243.  71.  77. 109. 272.  60.  54. 221.  90. 311. 281. 182. 321.  58.\n",
      " 262. 206. 233. 242. 123. 167.  63. 197.  71. 168. 140. 217. 121. 235.\n",
      " 245.  40.  52. 104. 132.  88.  69. 219.  72. 201. 110.  51. 277.  63.\n",
      " 118.  69. 273. 258.  43. 198. 242. 232. 175.  93. 168. 275. 293. 281.\n",
      "  72. 140. 189. 181. 209. 136. 261. 113. 131. 174. 257.  55.  84.  42.\n",
      " 146. 212. 233.  91. 111. 152. 120.  67. 310.  94. 183.  66. 173.  72.\n",
      "  49.  64.  48. 178. 104. 132. 220.  57.]\n"
     ]
    }
   ],
   "source": [
    "diabetes_X, diabetes_y = load_diabetes(return_X_y=True)\n",
    "print(diabetes_X)\n",
    "print(diabetes_y)"
   ]
  },
  {
   "cell_type": "markdown",
   "id": "915afd69",
   "metadata": {},
   "source": [
    "**1)d) During the lectures we talked about spliting our dataset into training and testing so that we can validate our models. One easy way of doing this is using [train_test_split](https://scikit-learn.org/stable/modules/generated/sklearn.model_selection.train_test_split.html) from scikit-learn. Split your `X` and `y` from the diabetes dataset into `X_train`, `X_test`, `y_train` and `y_test`. Use a 75-25 ratio for the split and a random_state=1. Print out your y_test.**\n",
    "\n",
    "**Hint: X_train, X_test, y_train, y_test = train_test_split(X, y, test_size=your_number, random_state=your_number)"
   ]
  },
  {
   "cell_type": "code",
   "execution_count": 20,
   "id": "50595254",
   "metadata": {},
   "outputs": [
    {
     "data": {
      "text/plain": [
       "array([ 78., 152., 200.,  59., 311., 178., 332., 132., 156., 135., 220.,\n",
       "       233.,  91.,  51., 195., 109., 217.,  94.,  89., 111., 129., 181.,\n",
       "       168.,  97., 115., 202.,  84., 147., 253., 144., 262., 115.,  68.,\n",
       "        65., 252., 212., 142., 215., 180., 163., 151., 283.,  66.,  83.,\n",
       "       214., 189., 302.,  93., 178., 241.,  52., 144., 102., 200., 232.,\n",
       "        97., 109.,  55.,  63.,  98.,  88., 233., 235.,  97., 243.,  59.,\n",
       "       138., 220., 137.,  72., 109.,  71.,  74., 219., 196., 170., 199.,\n",
       "        71., 155.,  52.,  63.,  88.,  97., 100.,  64., 107.,  49.,  60.,\n",
       "       346., 104., 259., 143., 190., 104.,  77., 141., 214.,  51., 175.,\n",
       "       167.,  90.,  39., 160., 101., 180.,  69., 281., 281., 214.,  96.,\n",
       "       146.])"
      ]
     },
     "execution_count": 20,
     "metadata": {},
     "output_type": "execute_result"
    }
   ],
   "source": [
    "diabetes_X_train, diabetes_X_test, diabetes_y_train, diabetes_y_test = train_test_split(diabetes_X, diabetes_y, \n",
    "                                                                                test_size=0.25, random_state=1)\n",
    "diabetes_y_test"
   ]
  },
  {
   "cell_type": "markdown",
   "id": "489b23bc",
   "metadata": {},
   "source": [
    "---\n",
    "\n",
    "### 2. Linear and Plynomial Regression with Scikit-Learn\n",
    "\n",
    "Linear Regression with scikit-learn requires you to have your data in vector (array) form rather than formulas (like statsmodels. Look at the steps below to get an idea.\n",
    "\n",
    "We import LinearRegression from scikit-learn:\n",
    "```\n",
    "from sklearn.linear_model import LinearRegression\n",
    "```\n",
    "\n",
    "Most models on scikit-learn are python classes, which means we'll have to create an object of this class, and we'll have access to its attributes and methods.\n",
    "```\n",
    "lm = LinearRegression()\n",
    "```\n",
    "\n",
    "The next step is fitting our dataset to our `lm` model. So far its just an empty object of class LinearRegression. Pretend we already have a dataset `df` with all our data. We need to separate our dataset into `X` and `y` before fitting it to our model.\n",
    "```\n",
    "X = df.drop(['y'],axis=1)\n",
    "y = df['y']\n",
    "```\n",
    "\n",
    "Once separated we can use our `X` and `y` in our `lm` model:\n",
    "```\n",
    "lm.fit(X,y)\n",
    "```\n",
    "\n",
    "From the documentation of [LinearRegression](https://scikit-learn.org/stable/modules/generated/sklearn.linear_model.LinearRegression.html?highlight=linear%20regression#sklearn.linear_model.LinearRegression) you'll see that there are a few methods associated with this class:\n",
    "- fit(X, y[, sample_weight])\n",
    "- get_params([deep])\n",
    "- predict(X)\n",
    "- score(X, y[, sample_weight])\n",
    "- set_params(**params)\n",
    "\n",
    "As well as a few attributes:\n",
    "- coef_\n",
    "- rank_\n",
    "- singular_\n",
    "- intercept_\n",
    "- n_features_in_\n",
    "- feature_names_in_\n",
    "\n",
    "There are also parameters you can modify when creating your object from class LinearRegression.\n"
   ]
  },
  {
   "cell_type": "markdown",
   "id": "d16d0fa4",
   "metadata": {},
   "source": [
    "**2)a) Use your diabetes training dataset to fit them into a LinearRegression (with scikit-learn) and print out the coeficients of your model.**"
   ]
  },
  {
   "cell_type": "code",
   "execution_count": 21,
   "id": "31b89562",
   "metadata": {},
   "outputs": [
    {
     "name": "stdout",
     "output_type": "stream",
     "text": [
      "[  -7.85951708 -245.05253542  575.11667591  323.85372717 -519.77447335\n",
      "  250.61132753    0.96367294  180.50891964  614.75959394   52.10619986]\n"
     ]
    }
   ],
   "source": [
    "lm = LinearRegression()\n",
    "lm.fit(diabetes_X_train,diabetes_y_train)\n",
    "print(lm.coef_)"
   ]
  },
  {
   "cell_type": "markdown",
   "id": "fa0c5b85",
   "metadata": {},
   "source": [
    "**2)b) You can calculate the $R^2$ of your model by using the method `score` from LinearRegression. Use your model from 2)a) to print out the $R^2$ of your training set and the  $R^2$ of your testing set.**"
   ]
  },
  {
   "cell_type": "code",
   "execution_count": 22,
   "id": "63ed76cc",
   "metadata": {},
   "outputs": [
    {
     "name": "stdout",
     "output_type": "stream",
     "text": [
      "Training R-squared:  0.535916157695912\n",
      "Testing R-squared:  0.4439741326507922\n"
     ]
    }
   ],
   "source": [
    "print(\"Training R-squared: \", lm.score(diabetes_X_train,diabetes_y_train))\n",
    "print(\"Testing R-squared: \", lm.score(diabetes_X_test,diabetes_y_test))\n"
   ]
  },
  {
   "cell_type": "markdown",
   "id": "3fb616e5",
   "metadata": {},
   "source": [
    "**2)c) How good is your model based on your answer from 2)b)?**"
   ]
  },
  {
   "cell_type": "markdown",
   "id": "5b549534",
   "metadata": {},
   "source": [
    "--> R^2 explains the variance in y that is caused by variance in X. "
   ]
  },
  {
   "cell_type": "markdown",
   "id": "c63082aa",
   "metadata": {},
   "source": [
    "**2)d) Use the [`mean_squared_error`](https://scikit-learn.org/stable/modules/generated/sklearn.metrics.mean_squared_error.html) method (package already imported) to calculate your training and testing MSE.**\n",
    "\n",
    "**Hint: You'll have to calculate the predicted values of your model, both with your train and test datasets, and then calcualte their corresponding MSEs."
   ]
  },
  {
   "cell_type": "code",
   "execution_count": 23,
   "id": "93b75f91",
   "metadata": {},
   "outputs": [
    {
     "name": "stdout",
     "output_type": "stream",
     "text": [
      "Training Mean squared error: 2857.98\n",
      "Testing Mean squared error: 2903.10\n"
     ]
    }
   ],
   "source": [
    "diabetes_train_pred = lm.predict(diabetes_X_train)\n",
    "diabetes_test_pred = lm.predict(diabetes_X_test)\n",
    "\n",
    "print('Training Mean squared error: %.2f'% mean_squared_error(diabetes_y_train, diabetes_train_pred))\n",
    "print('Testing Mean squared error: %.2f'% mean_squared_error(diabetes_y_test, diabetes_test_pred))"
   ]
  },
  {
   "cell_type": "markdown",
   "id": "a2c0ae20",
   "metadata": {},
   "source": [
    "**2)e) Let's now try a polynomial regression with scikit-learn. We must first transform our X's into [polynomial features](https://scikit-learn.org/stable/modules/generated/sklearn.preprocessing.PolynomialFeatures.html). Follow the instructions below and print the coeficients and the test MSE for your polynomial regression (degree=3) model.**\n",
    "\n",
    "Polynomial features is a python class, therefore we must create an object of this class. When creating this object we must specify the degrees of our polynomial. \n",
    "```\n",
    "poly_model = PolynomialFeatures(degree=your_degree)\n",
    "```\n",
    "\n",
    "Once we have our model, we must transform our X's into polynomial form\n",
    "```\n",
    "X_poly_train = poly_model.fit_transform(diabetes_X_train)\n",
    "```\n",
    "\n",
    "After this step you can follow the same steps as your LinearRegression model. The difference is that you'll plug in your transformed polynomial features instead of your X_train or X_test.\n"
   ]
  },
  {
   "cell_type": "code",
   "execution_count": 24,
   "id": "9c6bcbc8",
   "metadata": {},
   "outputs": [
    {
     "name": "stdout",
     "output_type": "stream",
     "text": [
      "Coefficients: [ 5.26092340e+16 -1.92640787e+04 -1.84225084e+05  4.28975152e+04\n",
      "  9.14909032e+04 -1.13910802e+06  7.14631255e+05  7.25892448e+05\n",
      "  1.15459369e+05  4.01433287e+05  6.68821124e+04 -4.87611112e+03\n",
      " -3.73319891e+03 -1.51253986e+04  1.16912092e+04 -4.41134723e+06\n",
      "  3.89928163e+06  1.62118140e+06 -3.05198306e+04  1.42529191e+06\n",
      "  9.29516383e+02 -1.11222912e+03 -1.58739669e+04  5.25004681e+02\n",
      " -4.25024775e+07  3.73473521e+07  1.58837211e+07  3.81539266e+02\n",
      "  1.39892718e+07  1.21876912e+04 -7.26324924e+03  1.45610660e+04\n",
      "  9.51780093e+06 -8.39961352e+06 -3.51749883e+06  6.64864847e+04\n",
      " -3.13518202e+06  2.12140653e+04 -6.93335882e+03  2.10017364e+07\n",
      " -1.84408695e+07 -7.86164537e+06 -9.87662021e+03 -6.90187564e+06\n",
      " -1.33677383e+04 -1.18305782e+07 -4.44538326e+07  7.74844882e+07\n",
      "  2.54467066e+07  1.78212380e+07  1.52632919e+07  4.82076559e+07\n",
      " -4.37346533e+07 -2.24278498e+07  5.83323920e+06 -1.34108806e+07\n",
      " -2.72785992e+07 -9.40951385e+06 -2.92735567e+07 -5.70022640e+06\n",
      "  1.07175177e+05 -8.47310628e+06  6.42044746e+03 -2.65444587e+06\n",
      " -5.01084035e+06 -7.41650157e+03 -2.54248399e+05  3.57147676e+04\n",
      " -1.52281253e+05  1.04673693e+05 -5.99444634e+05  7.19907675e+05\n",
      "  5.62728600e+04 -1.25881907e+05  7.81134552e+04  1.25739811e+05\n",
      " -6.61262893e+01  6.90416538e+04  1.11286024e+05 -2.21730017e+06\n",
      "  2.03715332e+06  8.27337616e+05 -4.05106756e+04  6.88730913e+05\n",
      " -2.69494010e+05  2.19539039e+05  2.81337494e+05  8.80587602e+04\n",
      "  6.07041156e+03 -9.80097274e+05 -9.18444896e+05  1.64832170e+05\n",
      " -5.87805398e+05 -3.60891053e+04  1.10915078e+06 -1.25461415e+06\n",
      " -9.46883847e+04  5.24213034e+05 -1.05080910e+06  2.94765308e+05\n",
      "  1.70092291e+06 -3.16126666e+06  3.93306609e+06  4.96514971e+06\n",
      "  1.43735832e+07  1.73235283e+06  1.75651750e+06 -2.60881786e+06\n",
      " -4.38578700e+06 -1.18479545e+07 -1.48021684e+06 -2.67413616e+06\n",
      " -4.15200625e+06 -6.46817389e+06 -1.39119048e+06 -6.99804714e+05\n",
      " -1.56983324e+06 -5.90055834e+05  2.80128404e+06 -4.99458437e+05\n",
      "  1.67764866e+05 -4.23513472e+02  1.19877601e+00  2.10163785e+02\n",
      " -2.59227622e+05  2.27138128e+05  9.75558559e+04  2.63527867e+02\n",
      "  8.53821899e+04  2.24911795e+02  2.99757478e+04 -1.09299505e+05\n",
      " -5.73505054e+06  4.10128538e+06  2.91049683e+06  1.53048724e+06\n",
      "  1.54436483e+06  6.33185591e+05 -3.81562767e+04  1.91172014e+06\n",
      " -2.06942799e+06 -9.66503363e+05 -3.79356725e+05 -1.26915412e+04\n",
      " -2.77234054e+05 -7.03082329e+07  1.21219784e+08  5.15560985e+07\n",
      "  5.97827461e+06  1.98444558e+08  3.56266199e+06 -5.25373022e+07\n",
      " -4.48994054e+07 -4.59095919e+06 -1.73397039e+08 -2.51581730e+06\n",
      " -8.61420627e+06 -7.01785045e+05 -7.43613851e+07 -8.54056421e+05\n",
      " -1.46565242e+05 -2.36542648e+06 -3.39829094e+05  1.66125303e+07\n",
      " -1.47246603e+06 -6.82414034e+04 -1.13963030e+05  9.48952038e+04\n",
      " -3.69702294e+06  3.26666334e+06  1.90732087e+06  3.04990651e+05\n",
      "  1.00002362e+06  2.96399137e+05  9.44892836e+04  1.02381851e+06\n",
      " -9.17234503e+05 -1.14503392e+06 -6.09685959e+05 -3.68680164e+05\n",
      " -6.46377395e+05 -1.02260464e+07  8.41822597e+06  6.81878905e+06\n",
      "  1.09335599e+07 -2.79718081e+07  3.36504962e+06  3.03114343e+05\n",
      " -2.03557145e+06 -9.07132644e+06  2.79531383e+07 -2.24880289e+06\n",
      " -5.96653534e+05 -3.60835617e+06  1.13007603e+07 -4.95222530e+05\n",
      " -3.19558685e+05 -3.77407243e+06 -1.96697477e+05 -5.90040010e+06\n",
      " -9.18993714e+05  1.30278207e+05 -3.83634616e+03  7.41207613e+05\n",
      " -2.67132243e+05 -3.20015134e+05 -1.83984878e+05 -2.24448451e+05\n",
      " -2.15699886e+05  3.77108511e+07 -5.97305752e+07 -4.00063052e+07\n",
      " -1.52883707e+07 -9.77555987e+07 -2.90461834e+06  2.29547024e+07\n",
      "  3.28593094e+07  1.35914036e+07  8.41708060e+07  2.30304979e+06\n",
      "  9.65694730e+06  6.37505879e+06  4.00553200e+07  7.71639701e+05\n",
      "  7.35176428e+05  4.38079069e+06  1.47174074e+05 -8.57388243e+06\n",
      "  1.48181417e+06  1.38841723e+05 -5.58305463e+07  6.57432923e+06\n",
      "  2.35183399e+08  9.26944861e+07  1.17030991e+08  2.79319709e+07\n",
      "  1.13364204e+08 -2.96064873e+08 -1.49393766e+08  1.25406716e+08\n",
      " -4.26786872e+07 -1.55196874e+08 -7.51889114e+07 -4.48819630e+08\n",
      " -2.55040958e+07 -3.82736245e+06 -1.56531057e+08 -8.66147128e+06\n",
      " -6.44245103e+07 -7.02705378e+07 -3.14013921e+06 -6.64555391e+07\n",
      "  7.93616040e+07  5.89688898e+07 -1.99131445e+08  1.65267076e+07\n",
      "  1.12418792e+08  6.26801629e+07  2.65047373e+08  1.93207243e+07\n",
      "  4.76339646e+06  1.30709512e+08  5.97932938e+06  7.74844754e+07\n",
      "  5.93432951e+07  2.93650033e+06  2.85414556e+07  1.58484840e+07\n",
      "  1.52450096e+08  6.49564582e+06  1.07734371e+05  6.29170673e+07\n",
      "  5.20530076e+06  3.29135406e+06  2.68730016e+07  1.07423546e+06\n",
      " -1.50196740e+06  4.13469367e+06  1.52649438e+06 -4.53406052e+06\n",
      "  2.34647298e+06 -1.33966935e+05 -1.40104224e+05 -6.48045730e+06\n",
      "  1.01806683e+06 -2.11403121e+05]\n",
      "Mean squared error: 240868.24\n"
     ]
    }
   ],
   "source": [
    "poly_model = PolynomialFeatures(degree=3)\n",
    "\n",
    "X_poly_train = poly_model.fit_transform(diabetes_X_train)\n",
    "X_poly_test = poly_model.fit_transform(diabetes_X_test)\n",
    "\n",
    "lm_poly = LinearRegression()\n",
    "lm_poly.fit(X_poly_train, diabetes_y_train)\n",
    "diabetes_y_pred_poly = lm_poly.predict(X_poly_test)\n",
    "\n",
    "print('Coefficients:', lm_poly.coef_)\n",
    "print('Mean squared error: %.2f'% mean_squared_error(diabetes_y_test, diabetes_y_pred_poly))"
   ]
  },
  {
   "cell_type": "markdown",
   "id": "57f29ea5",
   "metadata": {},
   "source": [
    "**2)f) Is your test MSE from 2)e) any better than the one obtained in 2)d)?**"
   ]
  },
  {
   "cell_type": "markdown",
   "id": "8868ffe5",
   "metadata": {},
   "source": [
    "-->For the polynominal fit SME fit is worse.It is  because it is predicting from one variable to the next variable in all 3 degrees. "
   ]
  },
  {
   "cell_type": "markdown",
   "id": "2bd0eaeb",
   "metadata": {},
   "source": [
    "---\n",
    "\n",
    "### 3. Ridge and Lasso Regression\n",
    "\n",
    "Now that you have warmed up let the fun begin! We will start by looking at Ridge and Lasso Regression. In scikit-learn there are a few ways to compute Lasso Regression and Ridge Regression. For this exercise focus on the following:\n",
    "\n",
    "- [Lasso](https://scikit-learn.org/stable/modules/generated/sklearn.linear_model.Lasso.html)\n",
    "- [LassoCV](https://scikit-learn.org/stable/modules/generated/sklearn.linear_model.LassoCV.html#sklearn.linear_model.LassoCV)\n",
    "- [Ridge](https://scikit-learn.org/stable/modules/generated/sklearn.linear_model.Ridge.html)\n",
    "- [RidgeCV](https://scikit-learn.org/stable/modules/generated/sklearn.linear_model.RidgeCV.html)\n",
    "\n",
    "The `CV` at the end of Ridge or Lasso means that this model has cross-validation incorporated into its model objects. Therefore the alphas will be internally computed through cross-validation in these classes.\n",
    "\n",
    "*Note: For section you may take the boston dataset or the diabetes dataset.*"
   ]
  },
  {
   "cell_type": "code",
   "execution_count": 25,
   "id": "f79ee330",
   "metadata": {},
   "outputs": [],
   "source": [
    "from sklearn.linear_model import Ridge, RidgeCV, Lasso, LassoCV"
   ]
  },
  {
   "cell_type": "markdown",
   "id": "0342278c",
   "metadata": {},
   "source": [
    "**3)a) For this first exercise with Ridge regression we are going to apply Ridge() model to the Diabetes dataset. Please complete the code below to iterate through different values of `alpha` and store the values of the errors and coefficients for each alpha.**\n",
    "\n",
    "Steps:\n",
    "- Declare a model with Ridge(). This is the same way we would do it with LinearRegression() model\n",
    "- Fit the model\n",
    "- Use the model to make predictions\n",
    "- Store values of model.coef_ for coefficients\n",
    "- Store the MSE in errors by using the metric `mean_square_error(,)`"
   ]
  },
  {
   "cell_type": "code",
   "execution_count": 26,
   "id": "fe3b0726",
   "metadata": {},
   "outputs": [],
   "source": [
    "model_ridge = Ridge()\n",
    "coeficents = []\n",
    "errors_train = []\n",
    "errors_test = []\n",
    "\n",
    "alphas = np.logspace(-5, 5, 200)\n",
    "for a in alphas:\n",
    "    model_ridge.set_params(alpha=a)\n",
    "    model_ridge.fit(diabetes_X_train, diabetes_y_train)\n",
    "    coeficents.append(model_ridge.coef_)\n",
    "    errors_train.append(mean_squared_error(diabetes_y_train,model_ridge.predict(diabetes_X_train)))\n",
    "    errors_test.append(mean_squared_error(diabetes_y_test,model_ridge.predict(diabetes_X_test)))"
   ]
  },
  {
   "cell_type": "markdown",
   "id": "8963980e",
   "metadata": {},
   "source": [
    "**3)b) Plot the coefficients and errors you collected in the previous question. You should generate two plots, one of coefficients vs alphas, and another one of MSE (both train and test) vs alphas. You can take inspiration from this [example](https://scikit-learn.org/stable/auto_examples/linear_model/plot_ridge_coeffs.html#sphx-glr-auto-examples-linear-model-plot-ridge-coeffs-py).**"
   ]
  },
  {
   "cell_type": "code",
   "execution_count": 27,
   "id": "6f212712",
   "metadata": {},
   "outputs": [
    {
     "data": {
      "image/png": "[encoded data removed]",
      "text/plain": [
       "<Figure size 1440x432 with 2 Axes>"
      ]
     },
     "metadata": {},
     "output_type": "display_data"
    }
   ],
   "source": [
    "plt.figure(figsize=(20, 6))\n",
    "\n",
    "plt.subplot(121)\n",
    "ax = plt.gca()\n",
    "ax.plot(alphas, coeficents)\n",
    "ax.set_xscale('log')\n",
    "plt.xlabel('alpha')\n",
    "plt.ylabel('Coefficients')\n",
    "plt.title('Ridge Coeficients (training)')\n",
    "plt.axis('tight')\n",
    "\n",
    "plt.subplot(122)\n",
    "ax = plt.gca()\n",
    "ax.plot(alphas, errors_train,linestyle=\"-\", label=\"Train\")\n",
    "ax.plot(alphas, errors_test,linestyle=\"--\", label=\"Test\")\n",
    "ax.set_xscale('log')\n",
    "plt.xlabel('alpha')\n",
    "plt.ylabel('Mean Squared Error')\n",
    "plt.title('Ridge - Training and Testing Errors')\n",
    "plt.axis('tight')\n",
    "\n",
    "plt.show()"
   ]
  },
  {
   "cell_type": "markdown",
   "id": "1e0431ff",
   "metadata": {},
   "source": [
    "**2)c) The graphs resemble the ones we talked about in class. What can you comment about these graphs? What seems to be a reasonable value for alpha?**"
   ]
  },
  {
   "cell_type": "markdown",
   "id": "cd46b876",
   "metadata": {},
   "source": [
    "--> As alpha gets larger the better the tuning of the regression; it converges to 0. Best alpha is at 10^-1 as error for testing rises significantly  \n"
   ]
  },
  {
   "cell_type": "markdown",
   "id": "0d60b220",
   "metadata": {},
   "source": [
    "**2)d) Repeat a),b) and c) for Lasso(). Do you see any differences (compared to Ridge) when looking at the graphs?**"
   ]
  },
  {
   "cell_type": "code",
   "execution_count": 28,
   "id": "46fa39de",
   "metadata": {},
   "outputs": [
    {
     "data": {
      "image/png": "[encoded data removed]",
      "text/plain": [
       "<Figure size 1440x432 with 2 Axes>"
      ]
     },
     "metadata": {},
     "output_type": "display_data"
    }
   ],
   "source": [
    "model_lasso = Lasso()\n",
    "coeficents = []\n",
    "errors_train = []\n",
    "errors_test = []\n",
    "\n",
    "alphas = np.logspace(-5, 5, 200)\n",
    "for a in alphas:\n",
    "    model_lasso.set_params(alpha=a)\n",
    "    model_lasso.fit(diabetes_X_train, diabetes_y_train)\n",
    "    coeficents.append(model_lasso.coef_)\n",
    "    errors_train.append(mean_squared_error(diabetes_y_train,model_lasso.predict(diabetes_X_train)))\n",
    "    errors_test.append(mean_squared_error(diabetes_y_test,model_lasso.predict(diabetes_X_test)))\n",
    "\n",
    "plt.figure(figsize=(20, 6))\n",
    "\n",
    "plt.subplot(121)\n",
    "ax = plt.gca()\n",
    "ax.plot(alphas, coeficents)\n",
    "ax.set_xscale('log')\n",
    "plt.xlabel('alpha')\n",
    "plt.ylabel('Coefficients')\n",
    "plt.title('Lasso Coeficients (training)')\n",
    "plt.axis('tight')\n",
    "\n",
    "plt.subplot(122)\n",
    "ax = plt.gca()\n",
    "ax.plot(alphas, errors_train,linestyle=\"-\", label=\"Train\")\n",
    "ax.plot(alphas, errors_test,linestyle=\"--\", label=\"Test\")\n",
    "ax.set_xscale('log')\n",
    "plt.xlabel('alpha')\n",
    "plt.ylabel('Mean Squared Error')\n",
    "plt.title('Lasso - Training and Testing Errors')\n",
    "plt.axis('tight')\n",
    "\n",
    "plt.show()"
   ]
  },
  {
   "cell_type": "markdown",
   "id": "306c1c99",
   "metadata": {},
   "source": [
    "--> The best alpha is at 10^0. The differences are the steeper increase in error from the two verisons. "
   ]
  },
  {
   "cell_type": "markdown",
   "id": "5d6f913c",
   "metadata": {},
   "source": [
    "**2)e) For this question use the CV version of Ridge (with a cv=10) to model your same dataset. How good is this model for your dataset?**"
   ]
  },
  {
   "cell_type": "code",
   "execution_count": 29,
   "id": "272fcc7e",
   "metadata": {},
   "outputs": [
    {
     "name": "stdout",
     "output_type": "stream",
     "text": [
      "Ridge - best_score: \n",
      " 0.4852487214566811\n",
      "Ridge - best alpha: 0.1\n",
      "Ridge - intercept: 151.07140383737445\n",
      "Ridge - coefficients:\n",
      "    feature      values\n",
      "0     age    6.555468\n",
      "1     sex -204.330856\n",
      "2     bmi  524.233846\n",
      "3      bp  292.300519\n",
      "4      s1  -52.965197\n",
      "5      s2  -86.130668\n",
      "6      s3 -193.679445\n",
      "7      s4  128.568890\n",
      "8      s5  396.505388\n",
      "9      s6   79.700650\n"
     ]
    }
   ],
   "source": [
    "X, y = diabetes_data.data, diabetes_data.target\n",
    "feature_names=diabetes_data.feature_names\n",
    "\n",
    "\n",
    "model_ridgeCV = RidgeCV(cv=10).fit(diabetes_X_train, diabetes_y_train)\n",
    "\n",
    "\n",
    "coefficients=pd.DataFrame(diabetes_data.feature_names,columns=[\"feature\"])\n",
    "coefficients[\"values\"] = model_ridgeCV.coef_\n",
    "\n",
    "print(\"Ridge - best_score: \\n\",model_ridgeCV.best_score_)\n",
    "print(\"Ridge - best alpha: \"+str(model_ridgeCV.alpha_))\n",
    "print(\"Ridge - intercept: \"+str(model_ridgeCV.intercept_))\n",
    "print(\"Ridge - coefficients:\\n \", coefficients)"
   ]
  },
  {
   "cell_type": "markdown",
   "id": "57e7e6ab",
   "metadata": {},
   "source": [
    "--> These results are expected. Ridge is not doing a good job ( R2  = 0.48) predicting the target variable. We might need to perform feature engineering or try more complex models that better capture the features of the diabetes dataset"
   ]
  },
  {
   "cell_type": "markdown",
   "id": "3f283fd2",
   "metadata": {},
   "source": [
    "**2)f) Repeat e) for LassoCV(). How good is this model for your dataset? Was it better or worse than Ridge?**"
   ]
  },
  {
   "cell_type": "code",
   "execution_count": 30,
   "id": "448b359b",
   "metadata": {},
   "outputs": [
    {
     "name": "stdout",
     "output_type": "stream",
     "text": [
      "Lasso - R-squared: 0.5322993720471163\n",
      "Lasso - best alpha: 0.05838731675356994\n",
      "Lasso - intercept: 151.04207483745017\n",
      "Lasso - coefficients:\n",
      "    feature      values\n",
      "0     age   -0.000000\n",
      "1     sex -191.922918\n",
      "2     bmi  575.898196\n",
      "3      bp  286.552916\n",
      "4      s1  -73.491810\n",
      "5      s2   -0.000000\n",
      "6      s3 -233.484950\n",
      "7      s4    0.000000\n",
      "8      s5  469.839192\n",
      "9      s6   36.605075\n"
     ]
    }
   ],
   "source": [
    "model_lassoCV= LassoCV(cv=10).fit(diabetes_X_train, diabetes_y_train)\n",
    "\n",
    "\n",
    "coefficients=pd.DataFrame(diabetes_data.feature_names,columns=[\"feature\"])\n",
    "coefficients[\"values\"] = model_lassoCV.coef_\n",
    "\n",
    "print(\"Lasso - R-squared: \"+str(model_lassoCV.score(diabetes_X_train, diabetes_y_train)))\n",
    "print(\"Lasso - best alpha: \"+str(model_lassoCV.alpha_))\n",
    "print(\"Lasso - intercept: \"+str(model_lassoCV.intercept_))\n",
    "print(\"Lasso - coefficients:\\n \", coefficients)"
   ]
  },
  {
   "cell_type": "markdown",
   "id": "15f31dbf",
   "metadata": {},
   "source": [
    "-->  R^2 value is greate for lasso. It did better than ridges"
   ]
  },
  {
   "cell_type": "markdown",
   "id": "65a7221f",
   "metadata": {},
   "source": [
    "---\n",
    "\n",
    "#### If you got to this point you will receive full marks for your Lab 2 (considering that you also attending this Lab session). Nonetheless, we recommend you keep going so that HW2 is easier for you."
   ]
  },
  {
   "cell_type": "markdown",
   "id": "742031f1",
   "metadata": {},
   "source": [
    "---\n",
    "\n",
    "### 4. Cross Validation\n",
    "\n",
    "For this question we will look at K-fold cross validation and LOOCV. "
   ]
  },
  {
   "cell_type": "code",
   "execution_count": 31,
   "id": "7cfe57df",
   "metadata": {},
   "outputs": [],
   "source": [
    "from sklearn.model_selection import KFold\n",
    "from sklearn.model_selection import cross_val_score\n",
    "from sklearn.model_selection import LeaveOneOut\n",
    "from sklearn.preprocessing import PolynomialFeatures\n",
    "import time"
   ]
  },
  {
   "cell_type": "markdown",
   "id": "92a733e4",
   "metadata": {},
   "source": [
    "**4)a) For this question you are going to apply cross validation to your dataset, while iterating from polynomial degree=1 up to degree=5. Look at the requirements below. How much did this operation take to compute?**\n",
    "\n",
    "Use [KFold()](https://scikit-learn.org/stable/modules/generated/sklearn.model_selection.KFold.html) with the following parameters:\n",
    "- k of 10.\n",
    "- randome_state=None\n",
    "- shuffle = False\n",
    "\n",
    "Uncomment the lines of code and fill out the missing code."
   ]
  },
  {
   "cell_type": "code",
   "execution_count": 32,
   "id": "1a957828",
   "metadata": {},
   "outputs": [
    {
     "name": "stdout",
     "output_type": "stream",
     "text": [
      "Degree-1 polynomial MSE: 3115.0353304303544, standard_dev: 379.86362296249536\n",
      "Degree-2 polynomial MSE: 5890.1692187870885, standard_dev: 1705.9451644635685\n",
      "Degree-3 polynomial MSE: 2185742.1131016044, standard_dev: 2947677.4073561216\n",
      "Degree-4 polynomial MSE: 109708.9156425439, standard_dev: 50341.20634556943\n",
      "Degree-5 polynomial MSE: 102516.97338108337, standard_dev: 44063.50507837793\n",
      "Computation time: 3.408\n"
     ]
    }
   ],
   "source": [
    "lm = LinearRegression()\n",
    "#characteristics of our CV (as listed above)\n",
    "cross_val = KFold(n_splits=10, random_state=None, shuffle=False)\n",
    "\n",
    "#start timer\n",
    "start = time.time()\n",
    "for i in range(1,6):\n",
    "    poly = PolynomialFeatures(degree=i)\n",
    "    X_current = poly.fit_transform(diabetes_X_train)\n",
    "    model = lm.fit(X_current, diabetes_y_train)\n",
    "    scores = cross_val_score(model, X_current, diabetes_y_train, \n",
    "                             scoring=\"neg_mean_squared_error\", cv=cross_val, n_jobs=-1)\n",
    "    print(\"Degree-\"+str(i)+\" polynomial MSE: \" + str(np.mean(np.abs(scores))) + \", standard_dev: \" + str(np.std(scores)))\n",
    "computation_time = (time.time()-start)\n",
    "print(\"Computation time: %5.3f\"%computation_time)"
   ]
  },
  {
   "cell_type": "markdown",
   "id": "8c7dc0e5",
   "metadata": {},
   "source": [
    "--> Your answer here"
   ]
  },
  {
   "cell_type": "markdown",
   "id": "b9fa29ad",
   "metadata": {},
   "source": [
    "**4)b) Repeat the steps and code from 4)a) but this time use LOOCV instead of Kfolds. How much longer did your LOOCV take compared to your k-fold cross validation?**"
   ]
  },
  {
   "cell_type": "code",
   "execution_count": 33,
   "id": "fd360972",
   "metadata": {
    "scrolled": true
   },
   "outputs": [
    {
     "name": "stdout",
     "output_type": "stream",
     "text": [
      "Degree-1 polynomial MSE: 3047.752759538754, standard_dev: 3782.9327646872575\n",
      "Degree-2 polynomial MSE: 5298.326283987915, standard_dev: 11562.764141084974\n",
      "Degree-3 polynomial MSE: 2124378.167673716, standard_dev: 16207512.144751713\n",
      "Degree-4 polynomial MSE: 99259.19703265146, standard_dev: 256693.7719701016\n",
      "Degree-5 polynomial MSE: 91431.28085232731, standard_dev: 236196.10121455914\n",
      "Computation time: 12.856\n"
     ]
    }
   ],
   "source": [
    "loo_cv = LeaveOneOut()\n",
    "loo_cv.get_n_splits(diabetes_X_train)\n",
    "\n",
    "#we are doing the same as before but now our splits/k = n\n",
    "start = time.time()\n",
    "loocv = KFold(n_splits=loo_cv.get_n_splits(diabetes_X_train), random_state=None, shuffle=False)\n",
    "\n",
    "for i in range(1,6):\n",
    "    poly = PolynomialFeatures(degree=i)\n",
    "    X_current = poly.fit_transform(diabetes_X_train)\n",
    "    model = lm.fit(X_current, diabetes_y_train)\n",
    "    scores = cross_val_score(model, X_current, diabetes_y_train, \n",
    "                             scoring=\"neg_mean_squared_error\", cv=loocv,n_jobs=-1)\n",
    "    print(\"Degree-\"+str(i)+\" polynomial MSE: \" + str(np.mean(np.abs(scores))) + \", standard_dev: \" + str(np.std(scores)))\n",
    "\n",
    "    computation_time = (time.time()-start)\n",
    "print(\"Computation time: %5.3f\"%computation_time)"
   ]
  },
  {
   "cell_type": "markdown",
   "id": "cd6023c1",
   "metadata": {},
   "source": [
    "--> Your answer here"
   ]
  },
  {
   "cell_type": "markdown",
   "id": "7261a4e6",
   "metadata": {},
   "source": [
    "---\n",
    "\n",
    "### END OF LAB 2!"
   ]
  }
 ],
 "metadata": {
  "kernelspec": {
   "display_name": "Python 3",
   "language": "python",
   "name": "python3"
  },
  "language_info": {
   "codemirror_mode": {
    "name": "ipython",
    "version": 3
   },
   "file_extension": ".py",
   "mimetype": "text/x-python",
   "name": "python",
   "nbconvert_exporter": "python",
   "pygments_lexer": "ipython3",
   "version": "3.8.8"
  }
 },
 "nbformat": 4,
 "nbformat_minor": 5
}
